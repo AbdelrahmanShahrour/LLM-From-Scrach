{
 "cells": [
  {
   "cell_type": "code",
   "execution_count": 40,
   "id": "48992e45-5e4a-4d5f-aff1-9a1111983130",
   "metadata": {},
   "outputs": [],
   "source": [
    "import torch"
   ]
  },
  {
   "cell_type": "code",
   "execution_count": 4,
   "id": "6220628e-a415-46a6-95c4-d31612d59d72",
   "metadata": {},
   "outputs": [],
   "source": [
    "with open('The Improvement of Human Reason.txt', 'r', encoding='utf-8') as file:\n",
    "    text = file.read()\n",
    "\n",
    "\n",
    "chars = sorted(set(text))"
   ]
  },
  {
   "cell_type": "code",
   "execution_count": 10,
   "id": "c87b3162-fce9-41cf-95af-c60b2983b060",
   "metadata": {},
   "outputs": [
    {
     "data": {
      "text/plain": [
       "'[\\'\\\\n\\', \\' \\', \\'!\\', \\'\"\\', \\'#\\', \\'$\\', \\'%\\', \\'&\\', \"\\'\", \\'(\\', \\')\\', \\'*\\', \\',\\', \\'-\\', \\'.\\', \\'/\\', \\'0\\', \\'1\\', \\'2\\', \\'3\\', \\'4\\', \\'5\\', \\'6\\', \\'7\\', \\'8\\', \\'9\\', \\':\\', \\';\\', \\'?\\', \\'A\\', \\'B\\', \\'C\\', \\'D\\', \\'E\\', \\'F\\', \\'G\\', \\'H\\', \\'I\\', \\'J\\', \\'K\\', \\'L\\', \\'M\\', \\'N\\', \\'O\\', \\'P\\', \\'Q\\', \\'R\\', \\'S\\', \\'T\\', \\'U\\', \\'V\\', \\'W\\', \\'X\\', \\'Y\\', \\'Z\\', \\'[\\', \\']\\', \\'_\\', \\'a\\', \\'b\\', \\'c\\', \\'d\\', \\'e\\', \\'f\\', \\'g\\', \\'h\\', \\'i\\', \\'j\\', \\'k\\', \\'l\\', \\'m\\', \\'n\\', \\'o\\', \\'p\\', \\'q\\', \\'r\\', \\'s\\', \\'t\\', \\'u\\', \\'v\\', \\'w\\', \\'x\\', \\'y\\', \\'z\\', \\'§\\', \\'Æ\\', \\'á\\', \\'â\\', \\'æ\\', \\'è\\', \\'é\\', \\'ë\\', \\'í\\', \\'ô\\', \\'ù\\', \\'û\\', \\'—\\', \\'‘\\', \\'’\\', \\'“\\', \\'”\\', \\'•\\', \\'™\\', \\'\\\\ufeff\\'] ... total chars is 104'"
      ]
     },
     "execution_count": 10,
     "metadata": {},
     "output_type": "execute_result"
    }
   ],
   "source": [
    "f'{chars} ... total chars is {len(chars)}'"
   ]
  },
  {
   "cell_type": "code",
   "execution_count": 13,
   "id": "e045029b-14ba-4abd-9b96-951644ee479e",
   "metadata": {},
   "outputs": [],
   "source": [
    "str_2_int = { char:nom for nom,char in enumerate(chars)}\n",
    "int_2_str = { nom:char for nom,char in enumerate(chars)}"
   ]
  },
  {
   "cell_type": "code",
   "execution_count": 47,
   "id": "48c54811-48e3-4c75-b5cf-da85d0d32c52",
   "metadata": {},
   "outputs": [
    {
     "name": "stdout",
     "output_type": "stream",
     "text": [
      "tensor([103,  48,  65,  62,   1,  44,  75,  72,  67,  62,  60,  77,   1,  35,\n",
      "         78,  77,  62,  71,  59,  62,  75,  64,   1,  62,  30,  72,  72,  68,\n",
      "          1,  72,  63,   1,  48,  65,  62,   1,  37,  70,  73,  75,  72,  79,\n",
      "         62,  70,  62,  71,  77,   1,  72,  63,   1,  36,  78,  70,  58,  71,\n",
      "          1,  46,  62,  58,  76,  72,  71,   0,   1,   1,   1,   1,   0,  48,\n",
      "         65,  66,  76,   1,  62,  59,  72,  72,  68,   1,  66,  76,   1,  63,\n",
      "         72,  75,   1,  77,  65,  62,   1,  78,  76,  62,   1,  72,  63,   1,\n",
      "         58,  71,  82,  72,  71,  62,   1,  58,  71,  82,  80,  65,  62,  75,\n",
      "         62,   1,  66,  71,   1,  77,  65,  62,   1,  49,  71,  66,  77,  62,\n",
      "         61,   1,  47,  77,  58,  77,  62,  76,   1,  58,  71,  61,   0,  70,\n",
      "         72,  76,  77,   1,  72,  77,  65,  62,  75,   1,  73,  58,  75,  77,\n",
      "         76,   1,  72,  63,   1,  77,  65,  62,   1,  80,  72,  75,  69,  61,\n",
      "          1,  58,  77,   1,  71,  72,   1,  60,  72,  76,  77,   1,  58,  71,\n",
      "         61,   1,  80,  66,  77,  65,   1,  58,  69,  70,  72,  76,  77,   1,\n",
      "         71,  72,   1,  75])\n"
     ]
    }
   ],
   "source": [
    "encode = lambda s: [str_2_int[c] for c in s]\n",
    "decode = lambda l: ''.join([int_2_str[i] for i in l])\n",
    "\n",
    "def encode_decode(s:str) -> dict[str:list[int]]:\n",
    "    return {s: encode(s)}\n",
    "\n",
    "def decode_encode(l:list) -> dict[list[int]:str]:\n",
    "    return {l: decode(l)}\n",
    "\n",
    "\n",
    "data = torch.tensor(encode(text), dtype=torch.long)\n",
    "print(data[:200])"
   ]
  },
  {
   "cell_type": "code",
   "execution_count": 38,
   "id": "6d36eda6-a08a-4718-943e-c976d98a7eea",
   "metadata": {},
   "outputs": [
    {
     "data": {
      "text/plain": [
       "{'Shahrour': [47, 65, 58, 65, 75, 72, 78, 75]}"
      ]
     },
     "execution_count": 38,
     "metadata": {},
     "output_type": "execute_result"
    }
   ],
   "source": [
    "encode_decode('Shahrour')"
   ]
  },
  {
   "cell_type": "markdown",
   "id": "6678aade-48e5-4827-9351-1c7060011f18",
   "metadata": {},
   "source": [
    "# split text corpus"
   ]
  },
  {
   "cell_type": "code",
   "execution_count": 52,
   "id": "ed906beb-6d5e-40fc-8bc0-004cca9c5361",
   "metadata": {},
   "outputs": [],
   "source": [
    "ld = int(0.75*len(data))\n",
    "train_data = data[:ld]\n",
    "val_data = data[:ld]"
   ]
  },
  {
   "cell_type": "code",
   "execution_count": 54,
   "id": "4113bcd6-1678-45b4-911c-80e54f39cfe2",
   "metadata": {},
   "outputs": [
    {
     "data": {
      "text/plain": [
       "209040"
      ]
     },
     "execution_count": 54,
     "metadata": {},
     "output_type": "execute_result"
    }
   ],
   "source": [
    "ld"
   ]
  },
  {
   "cell_type": "code",
   "execution_count": 59,
   "id": "8492d112-6e02-40e9-87ac-dc38a07994ff",
   "metadata": {},
   "outputs": [
    {
     "name": "stdout",
     "output_type": "stream",
     "text": [
      "278720\n",
      "209040\n",
      "209040\n"
     ]
    }
   ],
   "source": [
    "print(len(data))\n",
    "print(len(train_data))\n",
    "print(len(val_data))"
   ]
  },
  {
   "cell_type": "code",
   "execution_count": null,
   "id": "491466a1-0409-4a58-8fad-a30d8fdfeb74",
   "metadata": {},
   "outputs": [],
   "source": []
  }
 ],
 "metadata": {
  "kernelspec": {
   "display_name": "Python 3 (ipykernel)",
   "language": "python",
   "name": "python3"
  },
  "language_info": {
   "codemirror_mode": {
    "name": "ipython",
    "version": 3
   },
   "file_extension": ".py",
   "mimetype": "text/x-python",
   "name": "python",
   "nbconvert_exporter": "python",
   "pygments_lexer": "ipython3",
   "version": "3.11.7"
  }
 },
 "nbformat": 4,
 "nbformat_minor": 5
}
